{
 "cells": [
  {
   "cell_type": "code",
   "execution_count": 1,
   "id": "9e0c0c53",
   "metadata": {},
   "outputs": [],
   "source": [
    "import json\n",
    "import requests"
   ]
  },
  {
   "cell_type": "markdown",
   "id": "0c24ca42",
   "metadata": {},
   "source": [
    "# GET /Hoteis"
   ]
  },
  {
   "cell_type": "code",
   "execution_count": 2,
   "id": "74355c10",
   "metadata": {},
   "outputs": [],
   "source": [
    "URL='http://127.0.0.1:5000'"
   ]
  },
  {
   "cell_type": "code",
   "execution_count": 113,
   "id": "5c3ea2ed",
   "metadata": {},
   "outputs": [],
   "source": [
    "reposta_hoteis = requests.request('GET', URL + '/hoteis')"
   ]
  },
  {
   "cell_type": "code",
   "execution_count": 114,
   "id": "029f00ad",
   "metadata": {},
   "outputs": [],
   "source": [
    "hoteis = reposta_hoteis.json()"
   ]
  },
  {
   "cell_type": "code",
   "execution_count": 116,
   "id": "cf957d1c",
   "metadata": {},
   "outputs": [
    {
     "data": {
      "text/plain": [
       "[{'hotel_id': 'delta',\n",
       "  'nome': 'Delta hotel',\n",
       "  'estrelas': 4.5,\n",
       "  'diaria': 830.0,\n",
       "  'cidade': 'Rio de Janeiro',\n",
       "  'site_id': 1},\n",
       " {'hotel_id': 'bravo',\n",
       "  'nome': 'Bravo hotel',\n",
       "  'estrelas': 2.5,\n",
       "  'diaria': 230.0,\n",
       "  'cidade': 'Salvador',\n",
       "  'site_id': 1},\n",
       " {'hotel_id': 'piragua_sp',\n",
       "  'nome': 'Piragua hotel SP',\n",
       "  'estrelas': 3.7,\n",
       "  'diaria': 340.0,\n",
       "  'cidade': 'Sao Paulo',\n",
       "  'site_id': 1},\n",
       " {'hotel_id': 'ibis',\n",
       "  'nome': 'Ibis Hotel',\n",
       "  'estrelas': 3.9,\n",
       "  'diaria': 190.0,\n",
       "  'cidade': 'Sao Paulo',\n",
       "  'site_id': 2},\n",
       " {'hotel_id': 'meuhotel',\n",
       "  'nome': 'Meu hotel',\n",
       "  'estrelas': 4.8,\n",
       "  'diaria': 398.0,\n",
       "  'cidade': None,\n",
       "  'site_id': 1},\n",
       " {'hotel_id': 'piragua',\n",
       "  'nome': ':iragua hotel',\n",
       "  'estrelas': 4.8,\n",
       "  'diaria': 398.0,\n",
       "  'cidade': 'Santos',\n",
       "  'site_id': 1},\n",
       " {'hotel_id': 'echo',\n",
       "  'nome': 'Echo hotel',\n",
       "  'estrelas': 2.4,\n",
       "  'diaria': 701.0,\n",
       "  'cidade': 'Rio de Janeiro',\n",
       "  'site_id': 2},\n",
       " {'hotel_id': 'piragua2',\n",
       "  'nome': 'piragua hotel',\n",
       "  'estrelas': 2.4,\n",
       "  'diaria': 701.0,\n",
       "  'cidade': 'Rio de Janeiro',\n",
       "  'site_id': 2}]"
      ]
     },
     "execution_count": 116,
     "metadata": {},
     "output_type": "execute_result"
    }
   ],
   "source": [
    "hoteis['hoteis']"
   ]
  },
  {
   "cell_type": "code",
   "execution_count": 6,
   "id": "de6f37a7",
   "metadata": {},
   "outputs": [],
   "source": [
    "lista_hoteis = hoteis['hoteis']"
   ]
  },
  {
   "cell_type": "code",
   "execution_count": 7,
   "id": "46f3ee29",
   "metadata": {},
   "outputs": [
    {
     "name": "stdout",
     "output_type": "stream",
     "text": [
      "Delta hotel\n",
      "Bravo hotel\n",
      "Piragua hotel SP\n",
      "Ibis Hotel\n"
     ]
    }
   ],
   "source": [
    "for hotel in lista_hoteis:\n",
    "    print(hotel['nome'])"
   ]
  },
  {
   "cell_type": "code",
   "execution_count": 8,
   "id": "00783920",
   "metadata": {},
   "outputs": [
    {
     "data": {
      "text/plain": [
       "{'hoteis': [{'hotel_id': 'delta',\n",
       "   'nome': 'Delta hotel',\n",
       "   'estrelas': 4.5,\n",
       "   'diaria': 830.0,\n",
       "   'cidade': 'Rio de Janeiro',\n",
       "   'site_id': 1}]}"
      ]
     },
     "execution_count": 8,
     "metadata": {},
     "output_type": "execute_result"
    }
   ],
   "source": [
    "requests.request('GET', URL + '/hoteis?estrelas_min=4').json()"
   ]
  },
  {
   "cell_type": "markdown",
   "id": "d59ef095",
   "metadata": {},
   "source": [
    "\n",
    "# POST /cadastro"
   ]
  },
  {
   "cell_type": "code",
   "execution_count": 11,
   "id": "7df0b068",
   "metadata": {},
   "outputs": [],
   "source": [
    "endpoint_cadastro = URL + '/cadastro'"
   ]
  },
  {
   "cell_type": "code",
   "execution_count": 10,
   "id": "2e92cf94",
   "metadata": {},
   "outputs": [],
   "source": [
    "body_cadastro={\n",
    "    'login':'oriel',\n",
    "    'senha':'abc123'\n",
    "}"
   ]
  },
  {
   "cell_type": "code",
   "execution_count": 13,
   "id": "1bb75e9a",
   "metadata": {},
   "outputs": [],
   "source": [
    "headers_cadastro={'Content-type':'application/json'\n",
    "}"
   ]
  },
  {
   "cell_type": "code",
   "execution_count": 14,
   "id": "c6f55293",
   "metadata": {},
   "outputs": [],
   "source": [
    "resposta_cadastro= requests.request('POST', \n",
    "                                    endpoint_cadastro,\n",
    "                                    json= body_cadastro, \n",
    "                                    headers= headers_cadastro )"
   ]
  },
  {
   "cell_type": "code",
   "execution_count": 16,
   "id": "33c040af",
   "metadata": {},
   "outputs": [
    {
     "data": {
      "text/plain": [
       "{'message': 'User created successfuly'}"
      ]
     },
     "execution_count": 16,
     "metadata": {},
     "output_type": "execute_result"
    }
   ],
   "source": [
    "resposta_cadastro.json()"
   ]
  },
  {
   "cell_type": "markdown",
   "id": "5037aa2e",
   "metadata": {},
   "source": [
    "# Login /login"
   ]
  },
  {
   "cell_type": "code",
   "execution_count": 147,
   "id": "8556a97d",
   "metadata": {},
   "outputs": [],
   "source": [
    "endpoint_login = URL + '/login'"
   ]
  },
  {
   "cell_type": "code",
   "execution_count": 148,
   "id": "3d951bb0",
   "metadata": {},
   "outputs": [],
   "source": [
    "body_cadastro={\n",
    "    'login':'oriel',\n",
    "    'senha':'abc123'\n",
    "}"
   ]
  },
  {
   "cell_type": "code",
   "execution_count": 152,
   "id": "a0f19c69",
   "metadata": {},
   "outputs": [],
   "source": [
    "headers_login={'Content-type':'application/json'\n",
    "}"
   ]
  },
  {
   "cell_type": "code",
   "execution_count": 153,
   "id": "abf608a0",
   "metadata": {},
   "outputs": [],
   "source": [
    "resposta_login= requests.request('POST', \n",
    "                                    endpoint_login,\n",
    "                                    json= body_cadastro, \n",
    "                                    headers= headers_login)"
   ]
  },
  {
   "cell_type": "code",
   "execution_count": 154,
   "id": "bfe5bd99",
   "metadata": {},
   "outputs": [],
   "source": [
    "access_token=resposta_login.json()['Access_token']"
   ]
  },
  {
   "cell_type": "markdown",
   "id": "bde1231d",
   "metadata": {},
   "source": [
    "# CRUD hotel/{hotel_id}"
   ]
  },
  {
   "cell_type": "code",
   "execution_count": 155,
   "id": "71d874c5",
   "metadata": {},
   "outputs": [],
   "source": [
    "hotel_name='piragua2'"
   ]
  },
  {
   "cell_type": "code",
   "execution_count": 156,
   "id": "4a53dffe",
   "metadata": {},
   "outputs": [],
   "source": [
    "endpoint_hotel_id=URL + '/hoteis/' + hotel_name"
   ]
  },
  {
   "cell_type": "code",
   "execution_count": 157,
   "id": "afe7b087",
   "metadata": {},
   "outputs": [
    {
     "data": {
      "text/plain": [
       "'http://127.0.0.1:5000/hoteis/piragua2'"
      ]
     },
     "execution_count": 157,
     "metadata": {},
     "output_type": "execute_result"
    }
   ],
   "source": [
    "endpoint_hotel_id"
   ]
  },
  {
   "cell_type": "code",
   "execution_count": 158,
   "id": "9e52f363",
   "metadata": {},
   "outputs": [],
   "source": [
    "body_hotel_id= {\n",
    "  'nome': 'piragua hotel',\n",
    "  'estrelas': 2.7,\n",
    "  'diaria': 701.0,\n",
    "  'cidade': 'Rio de Janeiro',\n",
    "  'site_id': 2}"
   ]
  },
  {
   "cell_type": "code",
   "execution_count": 159,
   "id": "f8ae03d8",
   "metadata": {},
   "outputs": [],
   "source": [
    "headers_hotel_id={\"Content-type\":'application/json',\n",
    "                  \"Authorization\": 'Bearer ' + access_token\n",
    "                 }"
   ]
  },
  {
   "cell_type": "code",
   "execution_count": 160,
   "id": "67d5322f",
   "metadata": {},
   "outputs": [],
   "source": [
    "reposta_hotel_id = requests.request('PUT', endpoint_hotel_id, json=body_hotel_id, headers=headers_hotel_id)"
   ]
  },
  {
   "cell_type": "code",
   "execution_count": 161,
   "id": "e6370f94",
   "metadata": {},
   "outputs": [
    {
     "data": {
      "text/plain": [
       "{'hotel_id': 'piragua2',\n",
       " 'nome': 'piragua hotel',\n",
       " 'estrelas': 2.7,\n",
       " 'diaria': 701.0,\n",
       " 'cidade': 'Rio de Janeiro',\n",
       " 'site_id': 2}"
      ]
     },
     "execution_count": 161,
     "metadata": {},
     "output_type": "execute_result"
    }
   ],
   "source": [
    "reposta_hotel_id.json()"
   ]
  },
  {
   "cell_type": "code",
   "execution_count": null,
   "id": "90532bcd",
   "metadata": {},
   "outputs": [],
   "source": [
    "\n"
   ]
  },
  {
   "cell_type": "code",
   "execution_count": null,
   "id": "84df1abe",
   "metadata": {},
   "outputs": [],
   "source": []
  }
 ],
 "metadata": {
  "kernelspec": {
   "display_name": "Python 3 (ipykernel)",
   "language": "python",
   "name": "python3"
  },
  "language_info": {
   "codemirror_mode": {
    "name": "ipython",
    "version": 3
   },
   "file_extension": ".py",
   "mimetype": "text/x-python",
   "name": "python",
   "nbconvert_exporter": "python",
   "pygments_lexer": "ipython3",
   "version": "3.8.10"
  }
 },
 "nbformat": 4,
 "nbformat_minor": 5
}
